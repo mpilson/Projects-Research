{
 "cells": [
  {
   "cell_type": "code",
   "execution_count": 7,
   "metadata": {},
   "outputs": [
    {
     "name": "stdout",
     "output_type": "stream",
     "text": [
      "[[[1. 2. 3.]]\n",
      "\n",
      " [[4. 5. 6.]]]\n",
      "1 \n",
      "\n",
      "[[[1. 2. 3.]\n",
      "  [4. 5. 6.]]]\n",
      "2 \n",
      "\n",
      "[[[1.]\n",
      "  [2.]\n",
      "  [3.]]\n",
      "\n",
      " [[4.]\n",
      "  [5.]\n",
      "  [6.]]]\n",
      "3 \n",
      "\n",
      "[[[-1. -1. -1.]\n",
      "  [-4. -4. -4.]]\n",
      "\n",
      " [[ 2.  2.  2.]\n",
      "  [-1. -1. -1.]]]\n",
      "\n",
      "\n",
      "[[[-1. -1. -1.]\n",
      "  [-1. -1. -1.]]]\n"
     ]
    }
   ],
   "source": [
    "import numpy as np\n",
    "import pandas as pd\n",
    "\n",
    "X = np.array([[1.0, 2.0, 3.0],   # (2 samples, 3 features)\n",
    "              [4.0, 5.0, 6.0]])\n",
    "\n",
    "means = np.array([[2.0, 3.0, 4.0], # (2 classes, 3 features)\n",
    "                  [5.0, 6.0, 7.0]])\n",
    "\n",
    "X_expanded1 = X[:, np.newaxis, :]\n",
    "X_expanded2 = X[np.newaxis, :, :]\n",
    "X_expanded3 = X[:, :, np.newaxis]\n",
    "\n",
    "print(X_expanded1)\n",
    "print(\"1 \\n\")\n",
    "print(X_expanded2)\n",
    "print(\"2 \\n\")\n",
    "print(X_expanded3)\n",
    "\n",
    "# Subtracting means\n",
    "diff1 = X_expanded1 - means\n",
    "diff2 = X_expanded2 - means\n",
    "#diff3 = X_expanded3 - means\n",
    "\n",
    "print(\"3 \\n\")\n",
    "print(diff1)\n",
    "print(\"\\n\")\n",
    "print(diff2)\n",
    "#print(diff3)\n",
    "\n"
   ]
  }
 ],
 "metadata": {
  "kernelspec": {
   "display_name": "Python 3",
   "language": "python",
   "name": "python3"
  },
  "language_info": {
   "codemirror_mode": {
    "name": "ipython",
    "version": 3
   },
   "file_extension": ".py",
   "mimetype": "text/x-python",
   "name": "python",
   "nbconvert_exporter": "python",
   "pygments_lexer": "ipython3",
   "version": "3.11.9"
  }
 },
 "nbformat": 4,
 "nbformat_minor": 2
}
